{
 "cells": [
  {
   "cell_type": "markdown",
   "id": "3cd76334",
   "metadata": {
    "id": "3cd76334"
   },
   "source": [
    "# What is Exploratory Data Analysis [ Vikram] \n",
    "\n",
    "Exploratory Data Analysis refers to the critical process of performing initial investigations on data so as to discover patterns,to spot anomalies,to test hypothesis and to check assumptions with the help of summary statistics and graphical representations.\n",
    "\n",
    "It could be broadly classified as a combination of\n",
    "\n",
    "    *Descriptive Statistics ( Which describes the Data Itself)\n",
    "    \n",
    "    *Inferential Statistics (What can be inferred using the data)\n",
    "    \n",
    "    * Visualizations of the data \n",
    "    \n",
    "    \n"
   ]
  },
  {
   "cell_type": "markdown",
   "id": "6930f628",
   "metadata": {
    "id": "6930f628"
   },
   "source": [
    "### What are we doing here\n",
    "\n",
    "Considering the start of Wimbledon we have picked up a data set consisting of Tennis Matces data and with this data set we are trying to analyze the different relationships in the data set comparing it with various factors\n",
    "\n",
    "    * Does the points won in the first server matter a lot for wins\n",
    "    * How does unforced errors impact the wins\n",
    "    * How does double faults impact the game\n",
    "    * Does serving fast win a player more points\n",
    "    \n",
    "From the data available on the web are we able to infer something out of the data?\n",
    "\n",
    "There are infinite possibilities on exploring the data for the sake of this presentation we will concentrate on some of the factors mentioned above\n",
    "\n"
   ]
  },
  {
   "cell_type": "markdown",
   "id": "65eefb60",
   "metadata": {
    "id": "65eefb60"
   },
   "source": [
    "## Descriptive Statistics"
   ]
  },
  {
   "cell_type": "markdown",
   "id": "9b92ae4c",
   "metadata": {
    "id": "9b92ae4c"
   },
   "source": [
    "### Importing the Libraries  "
   ]
  },
  {
   "cell_type": "code",
   "execution_count": null,
   "id": "a71ab1d3",
   "metadata": {
    "colab": {
     "base_uri": "https://localhost:8080/",
     "height": 17
    },
    "id": "a71ab1d3",
    "outputId": "49422cfd-e98b-442a-8e31-5baef9ca564b"
   },
   "outputs": [],
   "source": [
    "import numpy as np\n",
    "import pandas as pd \n",
    "from scipy import stats as st\n",
    "from quickda.explore_categoric import *\n",
    "from quickda.explore_data import *\n",
    "from quickda.clean_data import *\n",
    "from quickda.explore_numeric import *\n",
    "from quickda.explore_numeric_categoric import *\n",
    "from quickda.explore_time_series import *\n",
    "import matplotlib.pyplot as plt\n",
    "import seaborn as sns\n",
    "from statsmodels.stats import weightstats as stest\n",
    "from statsmodels.formula.api import ols # buiding model\n",
    "from statsmodels.stats.anova import anova_lm # actual hyp test\n",
    "import statsmodels.stats.multicomp as mc\n",
    "import random\n",
    "\n",
    "# Vikram"
   ]
  },
  {
   "cell_type": "markdown",
   "id": "36ad1e61",
   "metadata": {
    "id": "36ad1e61"
   },
   "source": [
    "### Let us Read the Data to a Pandas Data Frame and sneak into the data"
   ]
  },
  {
   "cell_type": "code",
   "execution_count": null,
   "id": "db6049f9",
   "metadata": {
    "id": "db6049f9"
   },
   "outputs": [],
   "source": [
    "df = pd.read_csv(r'C:\\Users\\1026774\\Desktop\\M.Tech\\Statistics\\Presentation\\Tennis Data.csv')"
   ]
  },
  {
   "cell_type": "code",
   "execution_count": null,
   "id": "cb9e5258",
   "metadata": {
    "colab": {
     "base_uri": "https://localhost:8080/",
     "height": 469
    },
    "id": "cb9e5258",
    "outputId": "b0a69859-6ad3-4c2a-eb1b-59318656f14c"
   },
   "outputs": [],
   "source": [
    "df.head() # Display the first 10 rows of the data"
   ]
  },
  {
   "cell_type": "code",
   "execution_count": null,
   "id": "dfb38d29",
   "metadata": {
    "id": "dfb38d29",
    "outputId": "9edbd15f-12fa-4ddb-9c49-5c3ebb37f2c1"
   },
   "outputs": [],
   "source": [
    "df.shape # Get the total observations in the data\n",
    "# Looking at the data we can see that there are 86394 rows and 39 columns"
   ]
  },
  {
   "cell_type": "markdown",
   "id": "073e9dbc",
   "metadata": {
    "id": "073e9dbc"
   },
   "source": [
    "### Standardize Data \n",
    "\n",
    "The above data set has irregular column names so let us standardize column names"
   ]
  },
  {
   "cell_type": "code",
   "execution_count": null,
   "id": "751507b1",
   "metadata": {
    "colab": {
     "base_uri": "https://localhost:8080/",
     "height": 201
    },
    "id": "751507b1",
    "outputId": "8b4e3fdc-f56a-4a22-8e45-f0806b0e395d"
   },
   "outputs": [],
   "source": [
    "df1 = clean(data = df, method='standardize') # With this we standaridze column names for the ease of usage\n",
    "df1.head(2)"
   ]
  },
  {
   "cell_type": "markdown",
   "id": "89943046",
   "metadata": {
    "id": "89943046"
   },
   "source": [
    "### Summarize the Data"
   ]
  },
  {
   "cell_type": "code",
   "execution_count": null,
   "id": "0518aa36",
   "metadata": {
    "colab": {
     "base_uri": "https://localhost:8080/",
     "height": 1000
    },
    "id": "0518aa36",
    "outputId": "e69d4abc-de4f-4bd7-dae8-4f09dd1126a6"
   },
   "outputs": [],
   "source": [
    "df_sum = explore(data=df1, method=\"summarize\")\n",
    "df_sum.T"
   ]
  },
  {
   "cell_type": "markdown",
   "id": "58006036",
   "metadata": {
    "id": "58006036"
   },
   "source": [
    "Looking at the above we can see that the data set has many null values and the count of null values is\n",
    "shown in null_sum column. \n",
    "\n",
    "Also we can the the distribution of some columns like aces, aces in first server is right skewed, average first and second serve are right skewed\n",
    "\n",
    "Now let us see if we can move forward with cleaning the data"
   ]
  },
  {
   "cell_type": "markdown",
   "id": "65e5fcf8",
   "metadata": {
    "id": "65e5fcf8"
   },
   "source": [
    "### Remove duplicate rows"
   ]
  },
  {
   "cell_type": "code",
   "execution_count": null,
   "id": "8bb042cc",
   "metadata": {
    "colab": {
     "base_uri": "https://localhost:8080/",
     "height": 201
    },
    "id": "8bb042cc",
    "outputId": "913949f2-a654-4050-9efe-7c8663f038f6"
   },
   "outputs": [],
   "source": [
    "df2 =clean(data=df1, method=\"duplicates\")\n",
    "df2.head(2)\n",
    "# With the above command we are removing duplicate rows if any in the data set"
   ]
  },
  {
   "cell_type": "markdown",
   "id": "be322555",
   "metadata": {
    "id": "be322555"
   },
   "source": [
    "###  Replace value with nulls/new value\n",
    "\n",
    "Since certain columns contain null values, it is better to replace the null values. "
   ]
  },
  {
   "cell_type": "code",
   "execution_count": null,
   "id": "3925ea8a",
   "metadata": {
    "colab": {
     "base_uri": "https://localhost:8080/",
     "height": 201
    },
    "id": "3925ea8a",
    "outputId": "357f1d44-1467-4642-c098-81707a59a105"
   },
   "outputs": [],
   "source": [
    "df3 = clean(data=df2, method=\"replaceval\", \n",
    "      columns=[], to_replace=\"\", value=np.nan)\n",
    "df3.head(2)"
   ]
  },
  {
   "cell_type": "markdown",
   "id": "bb40bedd",
   "metadata": {
    "id": "bb40bedd"
   },
   "source": [
    "### Fill Missing Values"
   ]
  },
  {
   "cell_type": "code",
   "execution_count": null,
   "id": "b9c9aaf9",
   "metadata": {
    "colab": {
     "base_uri": "https://localhost:8080/",
     "height": 201
    },
    "id": "b9c9aaf9",
    "outputId": "3a2b28fb-6849-45ab-a1af-f0774b86ec5e"
   },
   "outputs": [],
   "source": [
    "df4 = clean(data=df3, method=\"fillmissing\")\n",
    "df4.head(2)\n",
    "\n",
    "# This method uses pandas interpolation "
   ]
  },
  {
   "cell_type": "markdown",
   "id": "81fc663d",
   "metadata": {
    "id": "81fc663d"
   },
   "source": [
    "### Drop Missing Values\n",
    "\n",
    "For the sake of this analysis we decided to drop the missing values "
   ]
  },
  {
   "cell_type": "code",
   "execution_count": null,
   "id": "1575dcd2",
   "metadata": {
    "id": "1575dcd2"
   },
   "outputs": [],
   "source": [
    "df5 = clean(data = df4, method='dropmissing')\n"
   ]
  },
  {
   "cell_type": "markdown",
   "id": "6e6a4156",
   "metadata": {
    "id": "6e6a4156"
   },
   "source": [
    "### Profile the cleaned Data"
   ]
  },
  {
   "cell_type": "code",
   "execution_count": null,
   "id": "a3350b79",
   "metadata": {
    "colab": {
     "base_uri": "https://localhost:8080/"
    },
    "id": "a3350b79",
    "outputId": "e7150e52-8cde-482c-b364-60a7484ebd3e"
   },
   "outputs": [],
   "source": [
    "profile = explore(data = df5, method='profile', report_name='Tennis_Data_Report')"
   ]
  },
  {
   "cell_type": "code",
   "execution_count": null,
   "id": "32b79d73",
   "metadata": {
    "id": "32b79d73",
    "outputId": "ac2d92f4-8101-4f49-9224-22a4a120de93"
   },
   "outputs": [],
   "source": [
    "profile"
   ]
  },
  {
   "cell_type": "markdown",
   "id": "1de5f2b5",
   "metadata": {
    "id": "1de5f2b5"
   },
   "source": [
    "### Correlation Matrix"
   ]
  },
  {
   "cell_type": "code",
   "execution_count": null,
   "id": "7c988b2c",
   "metadata": {
    "colab": {
     "base_uri": "https://localhost:8080/",
     "height": 675
    },
    "id": "7c988b2c",
    "outputId": "7ee5bd6b-b95d-4d04-a0d9-a08ae138de57",
    "scrolled": true
   },
   "outputs": [],
   "source": [
    "eda_num(data = df5, method='correlation')"
   ]
  },
  {
   "cell_type": "markdown",
   "id": "da029c65",
   "metadata": {},
   "source": [
    "From the above we can identify the correlation between columns\n",
    "\n",
    "Some citations \n",
    "    * points_played_2nd_serve is highly correlated with points won indicating that there is a dire need to win the point do move forward in the game\n",
    "    * Unforced errors leads to points loss. \n",
    " "
   ]
  },
  {
   "cell_type": "markdown",
   "id": "a13eb1c6",
   "metadata": {
    "id": "a13eb1c6"
   },
   "source": [
    "### Explore Categoric Features\n"
   ]
  },
  {
   "cell_type": "code",
   "execution_count": null,
   "id": "bfd8453c",
   "metadata": {
    "colab": {
     "base_uri": "https://localhost:8080/",
     "height": 178
    },
    "id": "bfd8453c",
    "outputId": "52de9c60-a254-4922-c4ee-5a70a157a1d4"
   },
   "outputs": [],
   "source": [
    "eda_cat(data=df5, x='gender', y = 'aces', method='default')"
   ]
  },
  {
   "cell_type": "markdown",
   "id": "8e44b6dc",
   "metadata": {
    "id": "8e44b6dc"
   },
   "source": [
    "Looking at the above, we can identify males serve more number of aces than females "
   ]
  },
  {
   "cell_type": "code",
   "execution_count": null,
   "id": "f0f5242c",
   "metadata": {
    "colab": {
     "base_uri": "https://localhost:8080/",
     "height": 178
    },
    "id": "f0f5242c",
    "outputId": "c7b36995-a53c-49a7-b99a-6c4f3ad641d1"
   },
   "outputs": [],
   "source": [
    "eda_cat(data=df5, x='gender', y = 'double_faults', method='default')"
   ]
  },
  {
   "cell_type": "markdown",
   "id": "c7995a31",
   "metadata": {
    "id": "c7995a31"
   },
   "source": [
    "Looking at the above we are able to understand that females fare better in the first serves "
   ]
  },
  {
   "cell_type": "markdown",
   "id": "57fb9983",
   "metadata": {
    "id": "57fb9983"
   },
   "source": [
    "### Predictive Power Score"
   ]
  },
  {
   "cell_type": "code",
   "execution_count": null,
   "id": "560eddc5",
   "metadata": {
    "colab": {
     "base_uri": "https://localhost:8080/"
    },
    "id": "560eddc5",
    "outputId": "83a7e0fc-5629-405f-afbd-38290ddb0111"
   },
   "outputs": [],
   "source": [
    "eda_numcat(df5, x=\"unforced_errors\", method='pps')"
   ]
  },
  {
   "cell_type": "markdown",
   "id": "d33eba9b",
   "metadata": {
    "id": "d33eba9b"
   },
   "source": [
    "From the above we can see unforced error has a direct impact on the points lost.\n",
    "So if a player is able to control unforced error he/she will have a better advantage in the game"
   ]
  },
  {
   "cell_type": "markdown",
   "id": "e8daaa26",
   "metadata": {
    "id": "e8daaa26"
   },
   "source": [
    "It is interesting to know that the aces served during years remain almost similar across years "
   ]
  },
  {
   "cell_type": "markdown",
   "id": "5c9526c9",
   "metadata": {
    "id": "5c9526c9"
   },
   "source": [
    "### Visualizations "
   ]
  },
  {
   "cell_type": "markdown",
   "id": "d1064fc0",
   "metadata": {},
   "source": [
    "#### Visualization of Variables"
   ]
  },
  {
   "cell_type": "code",
   "execution_count": null,
   "id": "db16d52e",
   "metadata": {
    "colab": {
     "base_uri": "https://localhost:8080/",
     "height": 322
    },
    "id": "db16d52e",
    "outputId": "62396de7-5145-4250-b168-0a40463312f4"
   },
   "outputs": [],
   "source": [
    "from autoviz.AutoViz_Class import AutoViz_Class\n",
    "AV = AutoViz_Class()"
   ]
  },
  {
   "cell_type": "code",
   "execution_count": null,
   "id": "2ed048bd",
   "metadata": {
    "id": "2ed048bd"
   },
   "outputs": [],
   "source": [
    "df_vis = df5.to_csv(r'C:\\Users\\1026774\\Desktop\\M.Tech\\Statistics\\Presentation\\clean_data.csv')"
   ]
  },
  {
   "cell_type": "code",
   "execution_count": null,
   "id": "6fc82f72",
   "metadata": {
    "colab": {
     "base_uri": "https://localhost:8080/",
     "height": 166
    },
    "id": "6fc82f72",
    "outputId": "1039d845-d640-4691-e838-46c327adb733",
    "scrolled": false
   },
   "outputs": [],
   "source": [
    "df_vis = AV.AutoViz(r'C:\\Users\\1026774\\Desktop\\M.Tech\\Statistics\\Presentation\\clean_data.csv',verbose=2)"
   ]
  },
  {
   "cell_type": "markdown",
   "id": "2c809fda",
   "metadata": {},
   "source": [
    "#### Visualizations of the Data Set"
   ]
  },
  {
   "cell_type": "markdown",
   "id": "fb2cbbe7",
   "metadata": {},
   "source": [
    "##### Tournament Aces [ Ravi]"
   ]
  },
  {
   "cell_type": "code",
   "execution_count": null,
   "id": "9e36557d",
   "metadata": {
    "scrolled": true
   },
   "outputs": [],
   "source": [
    "sns.barplot(data = df5, x = 'tournament', y = 'aces' )"
   ]
  },
  {
   "cell_type": "markdown",
   "id": "748ae77f",
   "metadata": {},
   "source": [
    "Its interesting to find out that of all the grand slams the number of aces served in Wimbledon is the highest"
   ]
  },
  {
   "cell_type": "markdown",
   "id": "1586d387",
   "metadata": {},
   "source": [
    "##### Unforced Errors at player level [Krushna]"
   ]
  },
  {
   "cell_type": "code",
   "execution_count": null,
   "id": "66535db2",
   "metadata": {
    "scrolled": true
   },
   "outputs": [],
   "source": [
    "sns.barplot(data = df5, x = 'seed', y = 'unforced_errors', hue = 'handed')"
   ]
  },
  {
   "cell_type": "markdown",
   "id": "ab96a1fc",
   "metadata": {},
   "source": [
    "Non seeded players commit more unforced errors than the seeded players\n",
    "Also the playing hand of the person does not have any impact on the unforced errors"
   ]
  },
  {
   "cell_type": "markdown",
   "id": "57bf4885",
   "metadata": {},
   "source": [
    "##### Aces in Break Points [Mallkarjun]"
   ]
  },
  {
   "cell_type": "code",
   "execution_count": null,
   "id": "5efa40f3",
   "metadata": {},
   "outputs": [],
   "source": [
    "sns.barplot(data = df5, x = 'aces_1st_serve', y = 'breakpoints_won', hue = 'gender')"
   ]
  },
  {
   "cell_type": "markdown",
   "id": "0777ce74",
   "metadata": {},
   "source": [
    "Looking at the above we can infer women fare better in serving aces when crucial break points are concerned. "
   ]
  },
  {
   "cell_type": "markdown",
   "id": "8206ab1e",
   "metadata": {},
   "source": [
    "##### Who Serves the fastest [Nitheen]"
   ]
  },
  {
   "cell_type": "code",
   "execution_count": null,
   "id": "aaf024bd",
   "metadata": {},
   "outputs": [],
   "source": [
    "sns.barplot( data = df5 , x = 'gender', y = 'fastest_1st_serve_mph')"
   ]
  },
  {
   "cell_type": "markdown",
   "id": "791ada97",
   "metadata": {},
   "source": [
    "Looking at above we can infer men serve the fastest compared to women "
   ]
  },
  {
   "cell_type": "markdown",
   "id": "fa268d10",
   "metadata": {},
   "source": [
    "##### Who receives second serves better [ Vikram]"
   ]
  },
  {
   "cell_type": "code",
   "execution_count": null,
   "id": "c523d26a",
   "metadata": {},
   "outputs": [],
   "source": [
    "sns.barplot( data = df5, x = 'return_points_won_2nd_serve', y = 'gender')"
   ]
  },
  {
   "cell_type": "markdown",
   "id": "5b6f5d14",
   "metadata": {},
   "source": [
    "The above graph indicates women return second serves better than men"
   ]
  },
  {
   "cell_type": "markdown",
   "id": "8c7331c1",
   "metadata": {
    "id": "8c7331c1"
   },
   "source": [
    "## Inferential Statistics\n",
    "\n",
    "For this presentation on Inferential Statistics we will be using only the Wimbledon matches in the dataset"
   ]
  },
  {
   "cell_type": "code",
   "execution_count": null,
   "id": "8c266377",
   "metadata": {
    "id": "8c266377"
   },
   "outputs": [],
   "source": [
    "x= np.where((df5.tournament=='Wimbledon')) # Select only wimbledon matches to a Dataframe"
   ]
  },
  {
   "cell_type": "code",
   "execution_count": null,
   "id": "1786478f",
   "metadata": {
    "id": "1786478f"
   },
   "outputs": [],
   "source": [
    "df_wim= df5.loc[x] # Name the dataframe as Wimbledone Data Frame"
   ]
  },
  {
   "cell_type": "code",
   "execution_count": null,
   "id": "35b37fbc",
   "metadata": {},
   "outputs": [],
   "source": [
    "df_wim.head(2)"
   ]
  },
  {
   "cell_type": "markdown",
   "id": "0a8baa7f",
   "metadata": {},
   "source": [
    "### Rolex claims Average Serving speed of Roger Federer is more than 148 mph [Nitheen /Vikram]"
   ]
  },
  {
   "cell_type": "markdown",
   "id": "fcb70b66",
   "metadata": {},
   "source": [
    "HO : Average Serving speed < = 148 mph\n",
    "\n",
    "H1 : Average serving speed > 148 mph\n"
   ]
  },
  {
   "cell_type": "code",
   "execution_count": null,
   "id": "90b0cff5",
   "metadata": {},
   "outputs": [],
   "source": [
    "rf = df_wim.loc[df_wim.player=='Roger FEDERER']\n"
   ]
  },
  {
   "cell_type": "code",
   "execution_count": null,
   "id": "318a531f",
   "metadata": {},
   "outputs": [],
   "source": [
    "seed = 1\n",
    "sample_rf = rf.average_1st_serve_mph.sample(n = 50)\n",
    "# Selecting the same 50 samples for the data set for analysis"
   ]
  },
  {
   "cell_type": "code",
   "execution_count": null,
   "id": "7649cf07",
   "metadata": {},
   "outputs": [],
   "source": [
    "sample_rf.mean()\n",
    "# Obtaining the sample mean"
   ]
  },
  {
   "cell_type": "markdown",
   "id": "20118a31",
   "metadata": {},
   "source": [
    "Since variance is unknown using t_stat and since alpha is not given will be using 95 %. Invoking the CLT and assuming the distribution to be normal since n is > 30"
   ]
  },
  {
   "cell_type": "code",
   "execution_count": null,
   "id": "d2dde4e8",
   "metadata": {},
   "outputs": [],
   "source": [
    "t_val_val = st.norm.isf(0.05)\n",
    "t_val"
   ]
  },
  {
   "cell_type": "markdown",
   "id": "84ac5715",
   "metadata": {},
   "source": [
    "Since this is right tailed test we will reject the null hypothesis if t_stat is greater than 1.67 and p value > 0.05"
   ]
  },
  {
   "cell_type": "code",
   "execution_count": null,
   "id": "76bd708f",
   "metadata": {},
   "outputs": [],
   "source": [
    "st.ttest_1samp(sample_rf, popmean=148)"
   ]
  },
  {
   "cell_type": "markdown",
   "id": "f38fbc2f",
   "metadata": {},
   "source": [
    "Since the test stat is < 1.67 and p value is less than 0.05 we fail to accept the null hypothesis and conclude that Roger serves more than 148 mph "
   ]
  },
  {
   "cell_type": "markdown",
   "id": "99a97c20",
   "metadata": {},
   "source": [
    "### Do men serve more double faults than women [ Ravi]"
   ]
  },
  {
   "cell_type": "code",
   "execution_count": null,
   "id": "53ce434b",
   "metadata": {},
   "outputs": [],
   "source": [
    "eda_cat(data = df_wim,x = 'gender',y = 'double_faults' )"
   ]
  },
  {
   "cell_type": "markdown",
   "id": "22e4bcec",
   "metadata": {},
   "source": [
    "The above is clearly indicating that men make more double faults than women"
   ]
  },
  {
   "cell_type": "markdown",
   "id": "31a5c426",
   "metadata": {},
   "source": [
    "### How does gender fare across Service winners [ KK]"
   ]
  },
  {
   "cell_type": "code",
   "execution_count": null,
   "id": "6f881bf9",
   "metadata": {},
   "outputs": [],
   "source": [
    "eda_cat(data = df_wim,x = 'gender',y = 'service_winners' )"
   ]
  },
  {
   "cell_type": "markdown",
   "id": "3e6aca21",
   "metadata": {},
   "source": [
    "When it comes to service winners, men fare better"
   ]
  },
  {
   "cell_type": "markdown",
   "id": "4cb0f463",
   "metadata": {},
   "source": [
    "### Who conquers more break points [ Mallikarjun]"
   ]
  },
  {
   "cell_type": "code",
   "execution_count": null,
   "id": "7456d098",
   "metadata": {},
   "outputs": [],
   "source": [
    "sns.barplot(data = df_wim, x = 'breakpoints_played', y = 'breakpoints_won',hue='gender')"
   ]
  },
  {
   "cell_type": "markdown",
   "id": "1d4c781c",
   "metadata": {},
   "source": [
    "Its interesting once again to note that women conquer more break points than men (meaning women handle breaks very well :)"
   ]
  },
  {
   "cell_type": "markdown",
   "id": "7a177418",
   "metadata": {},
   "source": [
    "### Hypothesis Testing [ Vikram]\n",
    "\n",
    "\n",
    "\n",
    "Ho : Winning points in the first/second serve impacts the match result\n",
    "\n",
    "H1 : Winning points in the first/second serve does not impact the match result\n",
    "\n",
    "Since sigma is unknown will be using the t test at 95 % Confidence Level\n"
   ]
  },
  {
   "cell_type": "markdown",
   "id": "d786dbc0",
   "metadata": {},
   "source": [
    "Rationale  : \n",
    "\n",
    "The reason for the advantage, if it exists, would be that the player who receives in the first game is \n",
    "\n",
    "usually one game behind and that this would create extra stress. Let us investigate whether there is \n",
    "\n",
    "any truth in this hypothesis."
   ]
  },
  {
   "cell_type": "code",
   "execution_count": null,
   "id": "2772a776",
   "metadata": {},
   "outputs": [],
   "source": [
    "x = df_wim.points_played_1st_serve\n",
    "y = df_wim.points_won_1st_serve\n",
    "xbar1 = (y/x).mean() # Percentage of wins from first serve"
   ]
  },
  {
   "cell_type": "code",
   "execution_count": null,
   "id": "e18f336c",
   "metadata": {},
   "outputs": [],
   "source": [
    "xbar1"
   ]
  },
  {
   "cell_type": "code",
   "execution_count": null,
   "id": "a44ec530",
   "metadata": {},
   "outputs": [],
   "source": [
    "x1 = df_wim.points_played_2nd_serve\n",
    "y1 = df_wim.points_won_2nd_serve\n",
    "xbar2 = (y1/x1).mean() # Percentage of wins from second serve"
   ]
  },
  {
   "cell_type": "code",
   "execution_count": null,
   "id": "6dae0cdf",
   "metadata": {},
   "outputs": [],
   "source": [
    "std1 = (y/x).std() # Std dev of 1 server wins"
   ]
  },
  {
   "cell_type": "code",
   "execution_count": null,
   "id": "98dd997c",
   "metadata": {},
   "outputs": [],
   "source": [
    "std2 = (y1/x1).std() # Std dev of 2nd serve wins"
   ]
  },
  {
   "cell_type": "code",
   "execution_count": null,
   "id": "ab98f700",
   "metadata": {},
   "outputs": [],
   "source": [
    "len1 = len(df_wim.points_played_1st_serve) # Len of observations\n",
    "len2 = len(df_wim.points_played_2nd_serve)\n"
   ]
  },
  {
   "cell_type": "markdown",
   "id": "a87b54af",
   "metadata": {},
   "source": [
    "Now let us analyze this statistically "
   ]
  },
  {
   "cell_type": "code",
   "execution_count": null,
   "id": "0f20c339",
   "metadata": {},
   "outputs": [],
   "source": [
    "st.ttest_ind_from_stats(xbar1,std1,len1,xbar2,std2,len2) "
   ]
  },
  {
   "cell_type": "markdown",
   "id": "cccc3fcf",
   "metadata": {},
   "source": [
    "Since p value is 0 we fail to accept the null hypothesis and conclude that the winning does not have any significance on winning points in the first or second serve "
   ]
  },
  {
   "cell_type": "code",
   "execution_count": null,
   "id": "502c7368",
   "metadata": {},
   "outputs": [],
   "source": [
    "# Function to calculate % of first serve wins vs match wins in wimbledon across genders\n",
    "def points_in_first_serve(df_wim):\n",
    "    x = df_wim.points_played_1st_serve\n",
    "    y = df_wim.points_won_1st_serve\n",
    "    percent = y/x\n",
    "    return(sns.barplot(data = df_wim,x = 'points_won_1st_serve', y = 'match_won/lost',\n",
    "                       hue = 'set'))\n",
    "\n",
    "    \n",
    "    "
   ]
  },
  {
   "cell_type": "code",
   "execution_count": null,
   "id": "56a4fc96",
   "metadata": {
    "scrolled": true
   },
   "outputs": [],
   "source": [
    "points_in_first_serve(df_wim)"
   ]
  },
  {
   "cell_type": "code",
   "execution_count": null,
   "id": "930159a8",
   "metadata": {},
   "outputs": [],
   "source": [
    "def points_in_second_serve(df_wim):\n",
    "    x = df_wim.points_played_2nd_serve\n",
    "    y = df_wim.points_won_2nd_serve\n",
    "    return(sns.barplot(data = df_wim,x = 'points_won_2nd_serve', y = 'match_won/lost', hue = 'set'))"
   ]
  },
  {
   "cell_type": "code",
   "execution_count": null,
   "id": "994e9b88",
   "metadata": {},
   "outputs": [],
   "source": [
    "points_in_second_serve(df_wim)"
   ]
  },
  {
   "cell_type": "markdown",
   "id": "5cff0a9a",
   "metadata": {},
   "source": [
    "### Does player hand have significance on winning [ Ravi/KK]\n",
    "\n",
    "H0 : Playing hand does not impact match winnings\n",
    "\n",
    "H1 : Playing hand impacts match wins"
   ]
  },
  {
   "cell_type": "code",
   "execution_count": null,
   "id": "9a73230d",
   "metadata": {},
   "outputs": [],
   "source": [
    "right_handed = (df_wim.handed=='Right Handed').value_counts() # Get the counts of right handed players"
   ]
  },
  {
   "cell_type": "code",
   "execution_count": null,
   "id": "869b4969",
   "metadata": {},
   "outputs": [],
   "source": [
    "right_handed_wins = ((df_wim.handed=='Right Handed')&(df_wim['match_won/lost']=='Won')).value_counts() \n",
    "# Get the count of right hand wins"
   ]
  },
  {
   "cell_type": "code",
   "execution_count": null,
   "id": "6a1e3d2f",
   "metadata": {},
   "outputs": [],
   "source": [
    "rhw_ratio = right_handed_wins/right_handed\n",
    "print(rhw_ratio)\n",
    "# Compute the ratio of right hand players vs wins"
   ]
  },
  {
   "cell_type": "code",
   "execution_count": null,
   "id": "931d004f",
   "metadata": {},
   "outputs": [],
   "source": [
    "left_handed = (df_wim.handed=='Left Handed').value_counts() # Get the counts of right handed players\n",
    "left_handed_wins = ((df_wim.handed=='Left Handed')&(df_wim['match_won/lost']=='Won')).value_counts()\n",
    " # Get the counts of left handed players\n",
    "# Get the count of left hand wins"
   ]
  },
  {
   "cell_type": "code",
   "execution_count": null,
   "id": "d7c22e5e",
   "metadata": {},
   "outputs": [],
   "source": [
    "lhw_ratio = left_handed_wins/left_handed\n",
    "print(lhw_ratio)\n",
    "# Compute ratio of right hand players vs wins"
   ]
  },
  {
   "cell_type": "code",
   "execution_count": null,
   "id": "bb213bbc",
   "metadata": {},
   "outputs": [],
   "source": [
    "st.chi.isf(0.05, df = 1)\n",
    "\n",
    "# We reject the null hypothesis if the test stat is > 1.95"
   ]
  },
  {
   "cell_type": "code",
   "execution_count": null,
   "id": "3a6952f0",
   "metadata": {},
   "outputs": [],
   "source": [
    "stat,p_val, dof,exp_val  = st.chi2_contingency([[np.array(rhw_ratio)],[np.array(lhw_ratio)]])"
   ]
  },
  {
   "cell_type": "code",
   "execution_count": null,
   "id": "d1e8b786",
   "metadata": {},
   "outputs": [],
   "source": [
    "stat,p_val, dof,exp_val"
   ]
  },
  {
   "cell_type": "markdown",
   "id": "999d254f",
   "metadata": {},
   "source": [
    "Since the P Value is greater than 0.05 we fail to reject the null hypothesis and conclude the playing hand does not matter in winning or losing the games"
   ]
  },
  {
   "cell_type": "code",
   "execution_count": null,
   "id": "06d1be9c",
   "metadata": {},
   "outputs": [],
   "source": [
    "eda_cat(data = df_wim, x = 'handed', y = 'match_won/lost')"
   ]
  },
  {
   "cell_type": "markdown",
   "id": "d8c34443",
   "metadata": {},
   "source": [
    "## Simulations [ Nitheen, Mallikarjun ] \n",
    "\n",
    "With the existing Data Set"
   ]
  },
  {
   "cell_type": "markdown",
   "id": "01010c8c",
   "metadata": {},
   "source": [
    "### Central Limit Theorem - Demo\n",
    "\n",
    "    *The Central Limit Theorem states that the sampling distribution of the mean of any independent, random variable will be normal or nearly normal, if the sample size is large enough.\n",
    "    \n",
    "    \n",
    "    *In other words, if we take enough random samples that are big enough, the proportions of all the samples will be normally distributed around the actual proportion of the population. Note that the underlying sample distribution does not have to be normally distributed for the CLT to apply. To break this down even further, imagine collecting a sample and calculating the sample mean. Repeat this over and over again, collecting a new, independent sample from the population each time. If we plotted a histogram of each sample mean, the distribution will be normally distributed."
   ]
  },
  {
   "cell_type": "code",
   "execution_count": null,
   "id": "d8c281ab",
   "metadata": {},
   "outputs": [],
   "source": [
    "st.shapiro(df_wim.aces)\n",
    "# P Value is < 0.05 and we can conclude that the data is not normally distributed"
   ]
  },
  {
   "cell_type": "code",
   "execution_count": null,
   "id": "28e4d2b5",
   "metadata": {
    "scrolled": true
   },
   "outputs": [],
   "source": [
    "sns.distplot(df_wim.aces)\n",
    "# Distribution plot for above"
   ]
  },
  {
   "cell_type": "markdown",
   "id": "3722d7bb",
   "metadata": {},
   "source": [
    "The above distribution for aces is Right Skewed "
   ]
  },
  {
   "cell_type": "code",
   "execution_count": null,
   "id": "34373917",
   "metadata": {
    "scrolled": false
   },
   "outputs": [],
   "source": [
    "seed = 2\n",
    "samples_2 = np.array(df_wim.aces)\n",
    "samples_2 = [np.mean(random.choices(samples, k = 30)) for _ in range(20)]\n",
    "sns.distplot(samples_2)"
   ]
  },
  {
   "cell_type": "code",
   "execution_count": null,
   "id": "14d32cf8",
   "metadata": {},
   "outputs": [],
   "source": [
    "st.shapiro(samples_2)\n",
    "# P Value greater than 0.05 and the shape of the curve is nearing a normally distributed curve"
   ]
  },
  {
   "cell_type": "code",
   "execution_count": null,
   "id": "7238d0af",
   "metadata": {},
   "outputs": [],
   "source": [
    "seed = 2\n",
    "samples_2 = np.array(df_wim.aces)\n",
    "samples_2 = [np.mean(random.choices(samples, k = 40)) for _ in range(30)]\n",
    "sns.distplot(samples_2) \n"
   ]
  },
  {
   "cell_type": "code",
   "execution_count": null,
   "id": "aa85e32b",
   "metadata": {},
   "outputs": [],
   "source": [
    "st.shapiro(samples_2)\n",
    "\n",
    "# P Value is greater than 0.05 and the data looks nearly normally distributed"
   ]
  },
  {
   "cell_type": "code",
   "execution_count": null,
   "id": "ddddcdf3",
   "metadata": {
    "scrolled": true
   },
   "outputs": [],
   "source": [
    "seed = 2\n",
    "samples_500 = np.array(df_wim.aces)\n",
    "samples_500 = [np.mean(random.choices(samples, k = 50)) for _ in range(500)]\n",
    "sns.distplot(samples_500)"
   ]
  },
  {
   "cell_type": "markdown",
   "id": "84935048",
   "metadata": {},
   "source": [
    "Distribution for 50 samples run 500 times, the distribution looks almost normal"
   ]
  },
  {
   "cell_type": "code",
   "execution_count": null,
   "id": "07938214",
   "metadata": {},
   "outputs": [],
   "source": [
    "st.shapiro(samples_500)\n",
    "# P Value is greater than 0.05 and the curve almost looks like  normally distributed"
   ]
  },
  {
   "cell_type": "markdown",
   "id": "3d476948",
   "metadata": {},
   "source": [
    "## Further Scope for Analysis of the Data [ Vikram]"
   ]
  },
  {
   "cell_type": "markdown",
   "id": "89c2b250",
   "metadata": {},
   "source": [
    "The vastness of the data set opens scope to investigate few more hypothesis statements viz\n",
    "\n",
    "    * In the final set the player who has won the previous set has the advantage\n",
    "    * The real champions play their best tennis at the big points;\n",
    "    * All points are equally important\n",
    "    * After missing break points in the previous game there is an increased chance that you will loose your own service\n",
    "    * One break is enough to win the set"
   ]
  },
  {
   "cell_type": "markdown",
   "id": "c836fd31",
   "metadata": {},
   "source": [
    "#### What went well [ KK]"
   ]
  },
  {
   "cell_type": "markdown",
   "id": "de229233",
   "metadata": {},
   "source": [
    "The project/presentation provided an opportunity to use some of the concepts which were learnt as part of the curriculum.\n",
    "\n",
    "This also provided roads to explore many of the scipy stats modules and how the outputs can be used to draw meaningful inferences. \n",
    "\n"
   ]
  },
  {
   "cell_type": "markdown",
   "id": "2d748a1a",
   "metadata": {},
   "source": [
    "#### What could have been done better [ Ravi, Mallikarjun, Nitheen]"
   ]
  },
  {
   "cell_type": "markdown",
   "id": "e5cadee5",
   "metadata": {},
   "source": [
    "The variables in the data set were not aligning to a normal distribution and shapiro and levenes test were failing so there existed some uncertainity if the same data set can be used to perform Anova tests\n",
    "\n",
    "The data set provides and opportunity to explore some questions like\n",
    "\n",
    "    * How does gender fare in terms of fastest server to matches won (Meaning does serving fast help win more points which in turn help win matches?\n",
    "    * Do seeded players experiment more varieties in terms of shots against non seeded players and due to which they make more errors?\n",
    "    * How can simulations be used to the current data set?\n",
    "\n",
    "Further deeper understanding and research is needed to answer some of the above questions"
   ]
  },
  {
   "cell_type": "code",
   "execution_count": null,
   "id": "eff605a7",
   "metadata": {},
   "outputs": [],
   "source": []
  }
 ],
 "metadata": {
  "colab": {
   "name": "EDA Tennis Data.ipynb",
   "provenance": []
  },
  "kernelspec": {
   "display_name": "Python 3",
   "language": "python",
   "name": "python3"
  },
  "language_info": {
   "codemirror_mode": {
    "name": "ipython",
    "version": 3
   },
   "file_extension": ".py",
   "mimetype": "text/x-python",
   "name": "python",
   "nbconvert_exporter": "python",
   "pygments_lexer": "ipython3",
   "version": "3.7.10"
  },
  "toc": {
   "base_numbering": 1,
   "nav_menu": {},
   "number_sections": true,
   "sideBar": true,
   "skip_h1_title": false,
   "title_cell": "Table of Contents",
   "title_sidebar": "Contents",
   "toc_cell": false,
   "toc_position": {
    "height": "calc(100% - 180px)",
    "left": "10px",
    "top": "150px",
    "width": "384px"
   },
   "toc_section_display": true,
   "toc_window_display": true
  }
 },
 "nbformat": 4,
 "nbformat_minor": 5
}
